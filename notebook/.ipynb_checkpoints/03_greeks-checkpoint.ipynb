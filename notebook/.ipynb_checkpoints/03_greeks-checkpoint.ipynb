{
 "cells": [
  {
   "cell_type": "markdown",
   "id": "9f5717c8",
   "metadata": {},
   "source": [
    "# ⚙️ Session 3: Option Greeks Calculation\n",
    "Greeks measure sensitivity of option price to various factors:\n",
    "- **Delta**: $\\frac{\\partial C}{\\partial S}$\n",
    "- **Gamma**: $\\frac{\\partial^2 C}{\\partial S^2}$\n",
    "- **Vega**: $\\frac{\\partial C}{\\partial \\sigma}$\n",
    "- **Theta**: $\\frac{\\partial C}{\\partial T}$\n",
    "- **Rho**: $\\frac{\\partial C}{\\partial r}$"
   ]
  },
  {
   "cell_type": "code",
   "execution_count": null,
   "id": "3b411e3f",
   "metadata": {},
   "outputs": [],
   "source": [
    "delta = norm.cdf(d1)\n",
    "gamma = norm.pdf(d1) / (S * sigma * np.sqrt(T))\n",
    "vega = S * norm.pdf(d1) * np.sqrt(T)\n",
    "theta = -(S * norm.pdf(d1) * sigma) / (2 * np.sqrt(T))\n",
    "rho = K * T * np.exp(-r * T) * norm.cdf(d2)\n",
    "\n",
    "print(f\"Delta: {delta:.4f}\\nGamma: {gamma:.4f}\\nVega: {vega/100:.4f}\\nTheta: {theta/365:.4f}\\nRho: {rho/100:.4f}\")"
   ]
  }
 ],
 "metadata": {},
 "nbformat": 4,
 "nbformat_minor": 5
}
