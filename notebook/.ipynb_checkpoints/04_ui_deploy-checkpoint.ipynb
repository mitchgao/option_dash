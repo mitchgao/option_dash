{
 "cells": [
  {
   "cell_type": "markdown",
   "id": "745764d1",
   "metadata": {},
   "source": [
    "# 🌐 Session 4: Build the Dash UI and Deploy\n",
    "In this session, we:\n",
    "- Design UI with Dash Components\n",
    "- Connect callbacks\n",
    "- Deploy locally\n"
   ]
  },
  {
   "cell_type": "code",
   "execution_count": null,
   "id": "a465bc7b",
   "metadata": {},
   "outputs": [],
   "source": [
    "# See run.py for full app\n",
    "!python run.py"
   ]
  }
 ],
 "metadata": {},
 "nbformat": 4,
 "nbformat_minor": 5
}
