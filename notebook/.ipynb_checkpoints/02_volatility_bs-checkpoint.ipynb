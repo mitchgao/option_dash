{
 "cells": [
  {
   "cell_type": "markdown",
   "id": "5ba6758d",
   "metadata": {},
   "source": [
    "# 📈 Session 2: Volatility & Black-Scholes Pricing\n",
    "In this notebook, we will:\n",
    "- Compute historical volatility from price data\n",
    "- Understand and implement the Black-Scholes formula for call/put pricing\n",
    "\n",
    "### Black-Scholes Formula\n",
    "Call option:\n",
    "$$ C = S N(d_1) - K e^{-rT} N(d_2) $$\n",
    "Put option:\n",
    "$$ P = K e^{-rT} N(-d_2) - S N(-d_1) $$\n",
    "\n",
    "$$ d_1 = \\frac{\\ln(S/K) + (r + \\sigma^2 / 2)T}{\\sigma \\sqrt{T}}, \\quad d_2 = d_1 - \\sigma \\sqrt{T} $$"
   ]
  },
  {
   "cell_type": "code",
   "execution_count": null,
   "id": "dadf17ab",
   "metadata": {},
   "outputs": [],
   "source": [
    "import numpy as np\n",
    "from scipy.stats import norm\n",
    "from datetime import datetime\n",
    "\n",
    "S = 150  # Stock price\n",
    "K = 145  # Strike\n",
    "T = 30/365  # Time to maturity (30 days)\n",
    "r = 0.01  # Risk-free rate\n",
    "sigma = 0.25  # Volatility\n",
    "\n",
    "d1 = (np.log(S / K) + (r + 0.5 * sigma ** 2) * T) / (sigma * np.sqrt(T))\n",
    "d2 = d1 - sigma * np.sqrt(T)\n",
    "\n",
    "call = S * norm.cdf(d1) - K * np.exp(-r * T) * norm.cdf(d2)\n",
    "put = K * np.exp(-r * T) * norm.cdf(-d2) - S * norm.cdf(-d1)\n",
    "\n",
    "call, put"
   ]
  }
 ],
 "metadata": {},
 "nbformat": 4,
 "nbformat_minor": 5
}
