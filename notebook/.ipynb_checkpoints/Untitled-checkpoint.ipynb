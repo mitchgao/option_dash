{
 "cells": [
  {
   "cell_type": "markdown",
   "id": "95bc6e14-1389-4f13-9e43-883b87f44986",
   "metadata": {},
   "source": [
    "# Install Mini Conda"
   ]
  },
  {
   "cell_type": "code",
   "execution_count": 5,
   "id": "655a39e8-81f2-4211-8021-44162d44c809",
   "metadata": {},
   "outputs": [],
   "source": [
    "#https://www.anaconda.com/docs/getting-started/miniconda/install"
   ]
  },
  {
   "cell_type": "markdown",
   "id": "6ee83ab8-83ee-443f-8f1e-6705b21387d4",
   "metadata": {},
   "source": [
    "# Create Env for Option Dash Project"
   ]
  },
  {
   "cell_type": "code",
   "execution_count": 6,
   "id": "9480a3f4-8974-4889-8b81-44b14c83fd05",
   "metadata": {},
   "outputs": [],
   "source": [
    "#conda create -n option_dash python=3.11"
   ]
  },
  {
   "cell_type": "code",
   "execution_count": 7,
   "id": "57299c9a-7fef-4d28-a79f-8137b2a280d1",
   "metadata": {},
   "outputs": [],
   "source": [
    "#conda install -c conda-forge jupyterlab"
   ]
  },
  {
   "cell_type": "code",
   "execution_count": 8,
   "id": "e1f8d2aa-bf67-42a5-ad98-e438f5560aab",
   "metadata": {},
   "outputs": [],
   "source": [
    "#pip install yfinance pandas numpy dash dash-bootstrap-components dash-mantine-components "
   ]
  },
  {
   "cell_type": "markdown",
   "id": "48266324-65d6-4f9c-bce5-fe2442721d5d",
   "metadata": {},
   "source": [
    "# Install and Setup VS Code"
   ]
  },
  {
   "cell_type": "code",
   "execution_count": 10,
   "id": "e5897366-fa11-47b6-8e2d-b085e0676ebc",
   "metadata": {},
   "outputs": [],
   "source": [
    "# https://code.visualstudio.com/download"
   ]
  },
  {
   "cell_type": "code",
   "execution_count": null,
   "id": "89435023-0dde-4d89-a438-2caf85ff8f90",
   "metadata": {},
   "outputs": [],
   "source": [
    "#conda env list\n",
    "#where python"
   ]
  },
  {
   "cell_type": "code",
   "execution_count": 11,
   "id": "a30c742b-a8d9-4fa3-baca-3a0867bfafda",
   "metadata": {},
   "outputs": [],
   "source": [
    "#.vscode folder"
   ]
  },
  {
   "cell_type": "markdown",
   "id": "f13ef26e-f76c-4170-8671-560850735ce7",
   "metadata": {},
   "source": [
    "#launch.json\n",
    "\n",
    "<!-- {\n",
    "    // Use IntelliSense to learn about possible attributes.\n",
    "    // Hover to view descriptions of existing attributes.\n",
    "    // For more information, visit: https://go.microsoft.com/fwlink/?linkid=830387\n",
    "    \"version\": \"0.2.0\",\n",
    "    \"configurations\": [\n",
    "        {\n",
    "            \"name\": \"Python Debugger: Current File with Arguments\",\n",
    "            \"type\": \"debugpy\",\n",
    "            \"request\": \"launch\",\n",
    "            \"program\": \"${file}\",\n",
    "            \"console\": \"integratedTerminal\",\n",
    "            \"args\": \"${command:pickArgs}\",\n",
    "            \"cwd\": \"${workspaceFolder}\",\n",
    "            \"env\": {\n",
    "                \"PYTHONPATH\": \"${workspaceFolder}\",\n",
    "                \"app_env\": \"dev\"\n",
    "            }\n",
    "        }\n",
    "    ]\n",
    "} -->"
   ]
  },
  {
   "cell_type": "markdown",
   "id": "8375b38b-9b5b-4618-96de-a26ba31cd437",
   "metadata": {},
   "source": [
    "#settings.json\n",
    "<!-- {\n",
    "    \"editor.defaultFormatter\": \"ms-python.black-formatter\",\n",
    "    \"editor.formatOnSave\": true,\n",
    "    \"editor.formatOnType\": true,\n",
    "    \"python.autoComplete.extraPaths\": [\n",
    "        \"${workspaceFolder}\"\n",
    "    ],\n",
    "    \"python.analysis.extraPaths\": [\n",
    "        \"${workspaceFolder}\"\n",
    "    ],\n",
    "    \"python.defaultInterpreterPath\": \"C:/Users/m/.conda/envs/option_dash/python.exe\"\n",
    "} -->"
   ]
  },
  {
   "cell_type": "code",
   "execution_count": 254,
   "id": "e5474a10-86dd-4196-99bc-bacb62e7d986",
   "metadata": {},
   "outputs": [],
   "source": []
  },
  {
   "cell_type": "code",
   "execution_count": 250,
   "id": "8fa2d136-42bc-427d-b39c-48280270358a",
   "metadata": {},
   "outputs": [],
   "source": []
  },
  {
   "cell_type": "code",
   "execution_count": null,
   "id": "a6bcbc94-f1d9-437d-897c-4249353dc494",
   "metadata": {},
   "outputs": [],
   "source": []
  }
 ],
 "metadata": {
  "kernelspec": {
   "display_name": "Python 3 (ipykernel)",
   "language": "python",
   "name": "python3"
  },
  "language_info": {
   "codemirror_mode": {
    "name": "ipython",
    "version": 3
   },
   "file_extension": ".py",
   "mimetype": "text/x-python",
   "name": "python",
   "nbconvert_exporter": "python",
   "pygments_lexer": "ipython3",
   "version": "3.11.11"
  }
 },
 "nbformat": 4,
 "nbformat_minor": 5
}
