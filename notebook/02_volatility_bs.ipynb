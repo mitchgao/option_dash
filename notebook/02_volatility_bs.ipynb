{
 "cells": [
  {
   "cell_type": "markdown",
   "id": "5ba6758d",
   "metadata": {},
   "source": [
    "# 📈 Session 2: Volatility & Black-Scholes Pricing\n",
    "In this notebook, we will:\n",
    "- Compute historical volatility from price data\n",
    "- Understand and implement the Black-Scholes formula for call/put pricing\n",
    "\n",
    "### Black-Scholes Formula\n",
    "Call option:\n",
    "$$ C = S N(d_1) - K e^{-rT} N(d_2) $$\n",
    "Put option:\n",
    "$$ P = K e^{-rT} N(-d_2) - S N(-d_1) $$\n",
    "\n",
    "$$ d_1 = \\frac{\\ln(S/K) + (r + \\sigma^2 / 2)T}{\\sigma \\sqrt{T}}, \\quad d_2 = d_1 - \\sigma \\sqrt{T} $$"
   ]
  },
  {
   "cell_type": "code",
   "execution_count": 3,
   "id": "b5a49aef-2d64-43d8-8ded-ebc51f31f51a",
   "metadata": {},
   "outputs": [],
   "source": [
    "import numpy as np\n",
    "from scipy.stats import norm\n",
    "from datetime import datetime"
   ]
  },
  {
   "cell_type": "code",
   "execution_count": 10,
   "id": "c490567b-b1c3-4d17-a6d5-4c35e8aec618",
   "metadata": {},
   "outputs": [],
   "source": [
    "def bs_formula(S: float,K: float,T: float,r: float,sigma: float,_type: str='call') ->float:\n",
    "    d1 = (np.log(S / K) + (r + 0.5 * sigma ** 2) * T) / (sigma * np.sqrt(T))\n",
    "    d2 = d1 - sigma * np.sqrt(T)\n",
    "\n",
    "    if _type=='call':\n",
    "        price = S * norm.cdf(d1) - K * np.exp(-r * T) * norm.cdf(d2)\n",
    "    elif _type=='put':\n",
    "        price = K * np.exp(-r * T) * norm.cdf(-d2) - S * norm.cdf(-d1)\n",
    "    else:\n",
    "        raise Exception(\"Wrong option type!\")\n",
    "    return float(price)"
   ]
  },
  {
   "cell_type": "code",
   "execution_count": 13,
   "id": "27ff191a-6093-4ab0-bf5e-42a5fa6743f0",
   "metadata": {},
   "outputs": [
    {
     "data": {
      "text/plain": [
       "(0.523853735717756, 21.733277626536278)"
      ]
     },
     "execution_count": 13,
     "metadata": {},
     "output_type": "execute_result"
    }
   ],
   "source": [
    "S = 198  # Stock price\n",
    "K = 220  # Strike\n",
    "T = 30/365  # Time to maturity (30 days)\n",
    "r = 0.0438  # Risk-free rate\n",
    "sigma = 0.25  # Volatility\n",
    "\n",
    "bs_formula(S,K,T,r,sigma,'call'),bs_formula(S,K,T,r,sigma,'put')"
   ]
  },
  {
   "cell_type": "code",
   "execution_count": 16,
   "id": "6da3102d-0cac-4d2e-9c43-70cac9fc2d34",
   "metadata": {},
   "outputs": [
    {
     "data": {
      "text/plain": [
       "datetime.date(2025, 4, 13)"
      ]
     },
     "execution_count": 16,
     "metadata": {},
     "output_type": "execute_result"
    }
   ],
   "source": [
    "datetime.now().date()"
   ]
  },
  {
   "cell_type": "code",
   "execution_count": null,
   "id": "eabbcf51-335e-4718-b0c3-8b2430e169e6",
   "metadata": {},
   "outputs": [],
   "source": []
  }
 ],
 "metadata": {
  "kernelspec": {
   "display_name": "Python 3 (ipykernel)",
   "language": "python",
   "name": "python3"
  },
  "language_info": {
   "codemirror_mode": {
    "name": "ipython",
    "version": 3
   },
   "file_extension": ".py",
   "mimetype": "text/x-python",
   "name": "python",
   "nbconvert_exporter": "python",
   "pygments_lexer": "ipython3",
   "version": "3.11.11"
  }
 },
 "nbformat": 4,
 "nbformat_minor": 5
}
