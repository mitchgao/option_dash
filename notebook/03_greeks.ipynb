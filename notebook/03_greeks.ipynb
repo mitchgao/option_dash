{
 "cells": [
  {
   "cell_type": "markdown",
   "id": "9f5717c8",
   "metadata": {},
   "source": [
    "# ⚙️ Session 3: Option Greeks Calculation\n",
    "Greeks measure sensitivity of option price to various factors:\n",
    "- **Delta**: $\\frac{\\partial C}{\\partial S}$\n",
    "- **Gamma**: $\\frac{\\partial^2 C}{\\partial S^2}$\n",
    "- **Vega**: $\\frac{\\partial C}{\\partial \\sigma}$\n",
    "- **Theta**: $\\frac{\\partial C}{\\partial T}$\n",
    "- **Rho**: $\\frac{\\partial C}{\\partial r}$"
   ]
  },
  {
   "cell_type": "code",
   "execution_count": null,
   "id": "3b411e3f",
   "metadata": {},
   "outputs": [],
   "source": [
    "delta = norm.cdf(d1)\n",
    "gamma = norm.pdf(d1) / (S * sigma * np.sqrt(T))\n",
    "vega = S * norm.pdf(d1) * np.sqrt(T)\n",
    "theta = -(S * norm.pdf(d1) * sigma) / (2 * np.sqrt(T))\n",
    "rho = K * T * np.exp(-r * T) * norm.cdf(d2)\n",
    "\n",
    "print(f\"Delta: {delta:.4f}\\nGamma: {gamma:.4f}\\nVega: {vega/100:.4f}\\nTheta: {theta/365:.4f}\\nRho: {rho/100:.4f}\")"
   ]
  }
 ],
 "metadata": {
  "kernelspec": {
   "display_name": "Python 3 (ipykernel)",
   "language": "python",
   "name": "python3"
  },
  "language_info": {
   "codemirror_mode": {
    "name": "ipython",
    "version": 3
   },
   "file_extension": ".py",
   "mimetype": "text/x-python",
   "name": "python",
   "nbconvert_exporter": "python",
   "pygments_lexer": "ipython3",
   "version": "3.11.11"
  }
 },
 "nbformat": 4,
 "nbformat_minor": 5
}
