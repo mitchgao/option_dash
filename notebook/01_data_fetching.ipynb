{
 "cells": [
  {
   "cell_type": "markdown",
   "id": "600c080b",
   "metadata": {},
   "source": [
    "# 📊 Session 1: Fetching Financial Data using yfinance\n",
    "In this notebook, we will:\n",
    "- Install and use `yfinance` to fetch historical stock data\n",
    "- Understand the structure of the dataset\n",
    "- Visualize the stock prices using `plotly`\n"
   ]
  },
  {
   "cell_type": "code",
   "execution_count": null,
   "id": "50e6583b",
   "metadata": {},
   "outputs": [],
   "source": [
    "!pip install yfinance plotly"
   ]
  },
  {
   "cell_type": "code",
   "execution_count": null,
   "id": "1394eac5",
   "metadata": {},
   "outputs": [],
   "source": [
    "import yfinance as yf\n",
    "import plotly.graph_objects as go\n",
    "\n",
    "symbol = 'AAPL'\n",
    "df = yf.download(symbol, period='6mo')\n",
    "df.head()"
   ]
  },
  {
   "cell_type": "code",
   "execution_count": null,
   "id": "d6659443",
   "metadata": {},
   "outputs": [],
   "source": [
    "fig = go.Figure()\n",
    "fig.add_trace(go.Scatter(x=df.index, y=df['Adj Close'], name='Adj Close'))\n",
    "fig.update_layout(title=f'{symbol} Price History', xaxis_title='Date', yaxis_title='Price')\n",
    "fig.show()"
   ]
  }
 ],
 "metadata": {
  "kernelspec": {
   "display_name": "Python 3 (ipykernel)",
   "language": "python",
   "name": "python3"
  },
  "language_info": {
   "codemirror_mode": {
    "name": "ipython",
    "version": 3
   },
   "file_extension": ".py",
   "mimetype": "text/x-python",
   "name": "python",
   "nbconvert_exporter": "python",
   "pygments_lexer": "ipython3",
   "version": "3.11.11"
  }
 },
 "nbformat": 4,
 "nbformat_minor": 5
}
